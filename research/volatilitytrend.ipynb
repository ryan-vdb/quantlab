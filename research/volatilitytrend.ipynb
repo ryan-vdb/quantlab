{
 "cells": [
  {
   "cell_type": "markdown",
   "id": "6e0e4b34",
   "metadata": {},
   "source": [
    "<font size = \"5\">\n",
    "\n",
    "Volatility Trend Trading Strategy"
   ]
  },
  {
   "cell_type": "code",
   "execution_count": 20,
   "id": "6978753f",
   "metadata": {},
   "outputs": [],
   "source": [
    "import pandas as pd\n",
    "import numpy as np"
   ]
  },
  {
   "cell_type": "markdown",
   "id": "eab05112",
   "metadata": {},
   "source": [
    "<font size = \"4\">\n",
    "\n",
    "Step 0: Collect our data from our priceData function. For this walkthrough we will use ``NFLX`` Netflix as an example."
   ]
  },
  {
   "cell_type": "code",
   "execution_count": 21,
   "id": "09a187ee",
   "metadata": {},
   "outputs": [
    {
     "name": "stderr",
     "output_type": "stream",
     "text": [
      "[*********************100%***********************]  239 of 239 completed\n",
      "\n",
      "23 Failed downloads:\n",
      "['STLA', 'CNI', 'ORCL', 'BXP', 'GEHC']: Timeout('Failed to perform, curl: (28) Connection timed out after 10001 milliseconds. See https://curl.se/libcurl/c/libcurl-errors.html first for more details.')\n",
      "['EQR', 'HASI', 'PG', 'JPM', 'MDB', 'FRT', 'UNP', 'NKE', 'INTC', 'EOG', 'EQIX', 'RHHBY', 'TROW', 'GS', 'VZ', 'MRK']: Timeout('Failed to perform, curl: (28) Connection timed out after 10002 milliseconds. See https://curl.se/libcurl/c/libcurl-errors.html first for more details.')\n",
      "['ASML', 'AAPL']: Timeout('Failed to perform, curl: (28) Connection timed out after 10003 milliseconds. See https://curl.se/libcurl/c/libcurl-errors.html first for more details.')\n"
     ]
    }
   ],
   "source": [
    "from quantlab.data.yf import priceData\n",
    "from quantlab.data.tickers import tickers\n",
    "\n",
    "data = priceData(tickers, 150)\n",
    "s = pd.Series(data[\"NFLX\"])"
   ]
  },
  {
   "cell_type": "markdown",
   "id": "c47ff0aa",
   "metadata": {},
   "source": [
    "<font size = \"4\">\n",
    "\n",
    "Step 1: Get a logarithmic series ``y`` of the prices. Then, calculate the short term and long term volatility, stored as ``vol_short`` and ``vol_long`` by taking the standard deviations of the daily returns of the last 60 days and 10 days respectively. Calculate the ``vol_ratio`` of the short term volatility divided by the long term volatility."
   ]
  },
  {
   "cell_type": "code",
   "execution_count": 22,
   "id": "91c47307",
   "metadata": {},
   "outputs": [],
   "source": [
    "y = np.log(s)\n",
    "vol_short = y[-10:].std()\n",
    "vol_long = y[-60:].std()\n",
    "vol_ratio = vol_short / vol_long"
   ]
  },
  {
   "cell_type": "code",
   "execution_count": 23,
   "id": "a3d464e7",
   "metadata": {},
   "outputs": [
    {
     "name": "stdout",
     "output_type": "stream",
     "text": [
      "y: [7.10576971 7.10491614 7.12259246 7.13131476 7.12405142] ...\n",
      "vol_short: 0.051800799278630114\n",
      "vol_long: 0.032618540149011714\n",
      "vol_ratio: 1.5880784070037417\n"
     ]
    }
   ],
   "source": [
    "print(f\"y: {np.array(y[:5])} ...\")\n",
    "print(f\"vol_short: {vol_short}\")\n",
    "print(f\"vol_long: {vol_long}\")\n",
    "print(f\"vol_ratio: {vol_ratio}\")"
   ]
  },
  {
   "cell_type": "markdown",
   "id": "d83ed764",
   "metadata": {},
   "source": [
    "<font size = \"4\">\n",
    "\n",
    "Step 2: Use the ``current_price`` and the ``past_price`` from 10 days ago to calculate the direction of the stock, as ``price_movement`` (1 for increasing, 0 for decreasing)."
   ]
  },
  {
   "cell_type": "code",
   "execution_count": 24,
   "id": "3d593a2b",
   "metadata": {},
   "outputs": [],
   "source": [
    "current_price = s.iloc[-1]\n",
    "past_price = s.iloc[-10]\n",
    "price_movement = np.sign(current_price - past_price)"
   ]
  },
  {
   "cell_type": "code",
   "execution_count": 25,
   "id": "de6ad7a4",
   "metadata": {},
   "outputs": [
    {
     "name": "stdout",
     "output_type": "stream",
     "text": [
      "current_price: 1102.5\n",
      "past_price: 1203.2900390625\n",
      "price_movement: -1.0\n"
     ]
    }
   ],
   "source": [
    "print(f\"current_price: {current_price}\")\n",
    "print(f\"past_price: {past_price}\")\n",
    "print(f\"price_movement: {price_movement}\")"
   ]
  },
  {
   "cell_type": "markdown",
   "id": "cff000fc",
   "metadata": {},
   "source": [
    "<font size = \"4\">\n",
    "Step 3: If the short term volitility is greater than the long term volitility by at least a factor of 1.25x, the stock is believed to be entering a price shock, and should be expected to continue moving in its direction for a while longer. In this case, trade the stock depending on the direction it is moving. If not, the stock is in a calm state and isn't expected to move any time soon, so we don't do anything. The amount we buy should be standardized by price, so we divide 100 by the price of a share in order to buy/sell $100 of each stock."
   ]
  },
  {
   "cell_type": "code",
   "execution_count": 26,
   "id": "b8e670eb",
   "metadata": {},
   "outputs": [
    {
     "name": "stdout",
     "output_type": "stream",
     "text": [
      "Since the short term volitility is sufficiently higher than the long term volitility, make a move now.\n"
     ]
    }
   ],
   "source": [
    "if vol_ratio > 1.25:\n",
    "    result = price_movement * (100 / current_price)\n",
    "    print(\"Since the short term volitility is sufficiently higher than the long term volitility, make a move now.\")\n",
    "else:\n",
    "    print(\"Since the short term volitility is not sufficiently higher than the long term volitility, do nothing.\")"
   ]
  },
  {
   "cell_type": "markdown",
   "id": "53e0e210",
   "metadata": {},
   "source": [
    "<font size = \"4\">\n",
    "Now, Wrap all of this as a function, looping across all columns. Start by initializing an empty data frame ``results``, which will be added to if our result consists of us buying or selling a stock. Return the data frame of trading decisions of all stocks."
   ]
  },
  {
   "cell_type": "code",
   "execution_count": 27,
   "id": "3a4af61c",
   "metadata": {},
   "outputs": [],
   "source": [
    "def momentum(data):\n",
    "    results = {}\n",
    "    for col in data.columns:\n",
    "        s = pd.Series(data[col])\n",
    "        current_price = s.iloc[-1]\n",
    "        past_price = s.iloc[-8]\n",
    "        change = np.log(current_price / past_price)\n",
    "        daily_returns = np.log(s/s.shift(1))\n",
    "        vol = daily_returns.iloc[-8:].std(ddof = 1)\n",
    "        threshold = 0.75 * vol * np.sqrt(8)\n",
    "\n",
    "        if change > threshold:\n",
    "            results[col] = 100 / current_price\n",
    "        elif change < -threshold:\n",
    "            results[col] = -100 / current_price\n",
    "        else:\n",
    "            continue\n",
    "    return pd.Series(results, name = \"shares\")"
   ]
  },
  {
   "cell_type": "code",
   "execution_count": 28,
   "id": "75bb7e7b",
   "metadata": {},
   "outputs": [
    {
     "name": "stdout",
     "output_type": "stream",
     "text": [
      "A       0.685636\n",
      "ADBE    0.277847\n",
      "AEP    -0.868734\n",
      "AJG    -0.373832\n",
      "ALL    -0.523972\n",
      "          ...   \n",
      "WFC     1.150748\n",
      "WPC    -1.512630\n",
      "XEL    -1.252819\n",
      "XOM     0.869338\n",
      "ZM      1.177995\n",
      "Name: shares, Length: 101, dtype: float64\n"
     ]
    }
   ],
   "source": [
    "results = momentum(data)\n",
    "print(results)"
   ]
  }
 ],
 "metadata": {
  "kernelspec": {
   "display_name": "base",
   "language": "python",
   "name": "python3"
  },
  "language_info": {
   "codemirror_mode": {
    "name": "ipython",
    "version": 3
   },
   "file_extension": ".py",
   "mimetype": "text/x-python",
   "name": "python",
   "nbconvert_exporter": "python",
   "pygments_lexer": "ipython3",
   "version": "3.13.5"
  }
 },
 "nbformat": 4,
 "nbformat_minor": 5
}
