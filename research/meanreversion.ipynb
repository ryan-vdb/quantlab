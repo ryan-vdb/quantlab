{
 "cells": [
  {
   "cell_type": "markdown",
   "id": "6e0e4b34",
   "metadata": {},
   "source": [
    "<font size = \"5\">\n",
    "\n",
    "Explanation of mean reversion trading strategy"
   ]
  },
  {
   "cell_type": "code",
   "execution_count": 66,
   "id": "6978753f",
   "metadata": {},
   "outputs": [],
   "source": [
    "import pandas as pd\n",
    "import numpy as np"
   ]
  },
  {
   "cell_type": "markdown",
   "id": "eab05112",
   "metadata": {},
   "source": [
    "<font size = \"4\">\n",
    "\n",
    "Step 0: Collect our data from our priceData function. For this walkthrough we will use AAPL as an example."
   ]
  },
  {
   "cell_type": "code",
   "execution_count": 67,
   "id": "09a187ee",
   "metadata": {},
   "outputs": [
    {
     "name": "stderr",
     "output_type": "stream",
     "text": [
      "/Users/ryanvandeberghe/Documents/GitHub/quantlab/quantlab/data/yf.py:5: FutureWarning: YF.download() has changed argument auto_adjust default to True\n",
      "  data = yf.download(\n",
      "[*********************100%***********************]  239 of 239 completed\n",
      "\n",
      "32 Failed downloads:\n",
      "['ALL', 'ZTS', 'AMZN', 'BMY', 'BIO', 'ZION', 'CSCO', 'STLA', 'STT', 'ADBE', 'CB', 'HMC', 'BK', 'KRC', 'ROKU', 'VRTX', 'COIN', 'PSX', 'UNH', 'SNOW', 'FITB', 'CAH', 'XOM', 'ESS', 'BA', 'SBUX', 'KKR']: Timeout('Failed to perform, curl: (28) Connection timed out after 10002 milliseconds. See https://curl.se/libcurl/c/libcurl-errors.html first for more details.')\n",
      "['OXY', 'FIS']: Timeout('Failed to perform, curl: (28) Connection timed out after 10003 milliseconds. See https://curl.se/libcurl/c/libcurl-errors.html first for more details.')\n",
      "['MRK', 'A', 'IVZ']: Timeout('Failed to perform, curl: (28) Connection timed out after 10001 milliseconds. See https://curl.se/libcurl/c/libcurl-errors.html first for more details.')\n"
     ]
    }
   ],
   "source": [
    "from quantlab.data.yf import priceData\n",
    "from quantlab.data.tickers import tickers\n",
    "\n",
    "data = priceData(tickers, 150)\n",
    "s = pd.Series(data[\"AAPL\"])"
   ]
  },
  {
   "cell_type": "markdown",
   "id": "c47ff0aa",
   "metadata": {},
   "source": [
    "<font size = \"4\">\n",
    "\n",
    "Step 1: For each stock, create arrays of the stock orderings ``t``, prices ``s``, and price logarithms ``y``. We use log to compare changes more accurately."
   ]
  },
  {
   "cell_type": "code",
   "execution_count": 68,
   "id": "91c47307",
   "metadata": {},
   "outputs": [],
   "source": [
    "n = len(s)\n",
    "t = np.arange(n)\n",
    "y = np.log(s.values)"
   ]
  },
  {
   "cell_type": "code",
   "execution_count": 69,
   "id": "a3d464e7",
   "metadata": {},
   "outputs": [
    {
     "name": "stdout",
     "output_type": "stream",
     "text": [
      "n: 104\n",
      "t: [0 1 2 3 4 5 6 7 8 9] ...\n",
      "y: [5.30564716 5.31340087 5.31118467 5.30032821 5.31659347 5.30440696\n",
      " 5.31044476 5.29106441 5.29317508 5.27927366] ...\n"
     ]
    }
   ],
   "source": [
    "print(f\"n: {n}\")\n",
    "print(f\"t: {t[:10]} ...\")\n",
    "print(f\"y: {y[:10]} ...\")"
   ]
  },
  {
   "cell_type": "markdown",
   "id": "d83ed764",
   "metadata": {},
   "source": [
    "<font size = \"4\">\n",
    "\n",
    "Step 2: Calculate mean values of ``y`` and ``t`` to build a regression line of the price data over the past ``n`` days. Then, create a series of expected y values ``exp_ys`` and expected prices ``exp_ps`` to compare with our actual y values."
   ]
  },
  {
   "cell_type": "code",
   "execution_count": 70,
   "id": "3d593a2b",
   "metadata": {},
   "outputs": [],
   "source": [
    "t_mean = t.mean()\n",
    "y_mean = y.mean()\n",
    "slope = np.sum((t - t_mean) * (y - y_mean)) / np.sum((t - t_mean)**2)\n",
    "intercept = y_mean - slope * t_mean\n",
    "exp_ys = intercept + slope * t\n",
    "exp_ps = np.exp(exp_ys)"
   ]
  },
  {
   "cell_type": "code",
   "execution_count": 71,
   "id": "de6ad7a4",
   "metadata": {},
   "outputs": [
    {
     "name": "stdout",
     "output_type": "stream",
     "text": [
      "t_mean: 51.5\n",
      "y_mean: 5.419762947034555\n",
      "slope: 0.002983531006918908\n",
      "intercept: 5.2661111001782315\n",
      "exp_ys: [5.2661111  5.26909463 5.27207816 5.27506169 5.27804522 5.28102876\n",
      " 5.28401229 5.28699582 5.28997935 5.29296288] ...\n",
      "exp_ps: [193.66136647 194.24002395 194.82041046 195.40253115 195.98639121\n",
      " 196.57199583 197.15935024 197.74845965 198.33932931 198.93196448] ...\n"
     ]
    }
   ],
   "source": [
    "print(f\"t_mean: {t_mean}\")\n",
    "print(f\"y_mean: {y_mean}\")\n",
    "print(f\"slope: {slope}\")\n",
    "print(f\"intercept: {intercept}\")\n",
    "print(f\"exp_ys: {exp_ys[:10]} ...\")\n",
    "print(f\"exp_ps: {exp_ps[:10]} ...\")"
   ]
  },
  {
   "cell_type": "markdown",
   "id": "a8d19f31",
   "metadata": {},
   "source": [
    "<font size = \"4\">\n",
    "\n",
    "Step 3: Compare our expectations with the actual prices and calculate ``error_threshold`` based on standard deviation of our errors. Then, compare ``current_price`` with ``expected_current_price`` to figure out the ``error``. If the error is significant enough, we believe the stock is overvalued/undervalued and we should make a move on it."
   ]
  },
  {
   "cell_type": "code",
   "execution_count": 72,
   "id": "4c1b983d",
   "metadata": {},
   "outputs": [],
   "source": [
    "residuals = s.values - exp_ps\n",
    "error_threshold = residuals.std()\n",
    "current_price = s.iloc[-1]\n",
    "exp_current_price = exp_ps[-1]\n",
    "error = current_price - exp_current_price"
   ]
  },
  {
   "cell_type": "code",
   "execution_count": 73,
   "id": "68777b00",
   "metadata": {},
   "outputs": [
    {
     "name": "stdout",
     "output_type": "stream",
     "text": [
      "residuals: [ 7.80997753  8.79954209  7.76967743  5.00004148  7.70243631  4.64963808\n",
      "  5.28089634  0.80619733  0.63485282 -2.70466956] ...\n",
      "error_threshold: 6.043211934313763\n",
      "current_price: 269.0\n",
      "exp_current_price: 263.3317894403118\n",
      "error: 5.668210559688191\n"
     ]
    }
   ],
   "source": [
    "print(f\"residuals: {residuals[:10]} ...\")\n",
    "print(f\"error_threshold: {error_threshold}\")\n",
    "print(f\"current_price: {current_price}\")\n",
    "print(f\"exp_current_price: {exp_current_price}\")\n",
    "print(f\"error: {error}\")"
   ]
  },
  {
   "cell_type": "markdown",
   "id": "cff000fc",
   "metadata": {},
   "source": [
    "<font size = \"4\">\n",
    "Step 4: If the error is over 2 times the error threshold, meaning the stock overprices the mean by 2 standard deviations, we believe that the stock will revert back to its mean and therefore we short the stock now. If the error is less than -2 times the error threshold, the stock underprices the mean by 2 standard deviations, and we long the stock expecting it to grow and revert back to its mean. The amount we buy should be standardized by price, so we divide 100 by the price of a share in order to buy/sell $100 of each stock."
   ]
  },
  {
   "cell_type": "code",
   "execution_count": 74,
   "id": "b8e670eb",
   "metadata": {},
   "outputs": [
    {
     "name": "stdout",
     "output_type": "stream",
     "text": [
      "Since the error is within 2 standard deviations of the mean, do nothing.\n"
     ]
    }
   ],
   "source": [
    "if error > 2 * error_threshold:\n",
    "    result = -100 / current_price\n",
    "    print(\"Since the result is greater than the mean minus 2 standard deviations, short the stock.\")\n",
    "elif error < -2 * error_threshold:\n",
    "    result = 100 / current_price\n",
    "    print(\"Since the result is less than the mean minus 2 standard deviations, long the stock.\")\n",
    "else:\n",
    "    print(\"Since the error is within 2 standard deviations of the mean, do nothing.\")"
   ]
  },
  {
   "cell_type": "markdown",
   "id": "53e0e210",
   "metadata": {},
   "source": [
    "<font size = \"4\">\n",
    "Now, Wrap all of this as a function, looping across all columns. Start by initializing an empty data frame ``results``, which will be added to if our result consists of us buying or selling a stock. Return the data frame of trading decisions of all stocks."
   ]
  },
  {
   "cell_type": "code",
   "execution_count": 75,
   "id": "3a4af61c",
   "metadata": {},
   "outputs": [],
   "source": [
    "def meanReversion(data):\n",
    "    results = {}\n",
    "    for col in data.columns:\n",
    "        s = pd.Series(data[col])\n",
    "        n = len(s)\n",
    "        t = np.arange(n)\n",
    "        y = np.log(s.values)\n",
    "        t_mean = t.mean()\n",
    "        y_mean = y.mean()\n",
    "        slope = np.sum((t - t_mean) * (y - y_mean)) / np.sum((t - t_mean)**2)\n",
    "        intercept = y_mean - slope * t_mean\n",
    "        exp_ys = intercept + slope * t\n",
    "        exp_ps = np.exp(exp_ys)\n",
    "        residuals = s.values - exp_ps\n",
    "        error_threshold = residuals.std()\n",
    "        current_price = s.iloc[-1]\n",
    "        exp_current_price = exp_ps[-1]\n",
    "        error = current_price - exp_current_price\n",
    "\n",
    "        if error > 2 * error_threshold:\n",
    "            results[col] = -100 / current_price\n",
    "        elif error < -2 * error_threshold:\n",
    "            results[col] = 100 / current_price\n",
    "        else:\n",
    "            continue\n",
    "    return pd.Series(results, name = \"shares\")"
   ]
  },
  {
   "cell_type": "code",
   "execution_count": 76,
   "id": "75bb7e7b",
   "metadata": {},
   "outputs": [
    {
     "name": "stdout",
     "output_type": "stream",
     "text": [
      "AFG      0.764409\n",
      "AMD     -0.387582\n",
      "ARE      1.588815\n",
      "BLK      0.088893\n",
      "BX       0.659239\n",
      "CINF     0.658979\n",
      "CRWD    -0.182835\n",
      "D        1.677290\n",
      "DOW     -3.940110\n",
      "EW      -1.216693\n",
      "GM      -1.431229\n",
      "HIG      0.815062\n",
      "IBM     -0.319928\n",
      "ISRG    -0.183355\n",
      "JNJ      0.534960\n",
      "KO      -1.425313\n",
      "LIN      0.225876\n",
      "MDT      1.072616\n",
      "MKL      0.054408\n",
      "MU      -0.450633\n",
      "NCLH     4.474273\n",
      "NIO     14.104372\n",
      "NSC      0.356633\n",
      "NVS      0.810176\n",
      "PGR      0.471898\n",
      "QCOM    -0.552395\n",
      "REGN    -0.152793\n",
      "RMD      0.389757\n",
      "SPG      0.565707\n",
      "UAL      1.053297\n",
      "UPS     -1.037775\n",
      "VICI     3.293808\n",
      "WPC      1.512630\n",
      "Name: shares, dtype: float64\n"
     ]
    }
   ],
   "source": [
    "results = meanReversion(data)\n",
    "print(results)"
   ]
  }
 ],
 "metadata": {
  "kernelspec": {
   "display_name": "base",
   "language": "python",
   "name": "python3"
  },
  "language_info": {
   "codemirror_mode": {
    "name": "ipython",
    "version": 3
   },
   "file_extension": ".py",
   "mimetype": "text/x-python",
   "name": "python",
   "nbconvert_exporter": "python",
   "pygments_lexer": "ipython3",
   "version": "3.13.5"
  }
 },
 "nbformat": 4,
 "nbformat_minor": 5
}
