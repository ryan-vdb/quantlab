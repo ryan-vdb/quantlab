{
 "cells": [
  {
   "cell_type": "markdown",
   "id": "6e0e4b34",
   "metadata": {},
   "source": [
    "<font size = \"5\">\n",
    "\n",
    "Mean Reversion Trading Strategy"
   ]
  },
  {
   "cell_type": "code",
   "execution_count": 15,
   "id": "6978753f",
   "metadata": {},
   "outputs": [],
   "source": [
    "import pandas as pd\n",
    "import numpy as np"
   ]
  },
  {
   "cell_type": "markdown",
   "id": "eab05112",
   "metadata": {},
   "source": [
    "<font size = \"4\">\n",
    "\n",
    "Step 0: Collect our data from our priceData function. For this walkthrough we will use ``KO`` Coca-Cola as an example."
   ]
  },
  {
   "cell_type": "code",
   "execution_count": 16,
   "id": "09a187ee",
   "metadata": {},
   "outputs": [
    {
     "name": "stderr",
     "output_type": "stream",
     "text": [
      "[*********************100%***********************]  239 of 239 completed\n",
      "\n",
      "17 Failed downloads:\n",
      "['SNOW', 'CP', 'KLAC', 'BEN', 'APO', 'BMY', 'TMO', 'LCID', 'NNN', 'TSLA', 'PATH', 'LVS', 'IRM', 'TM', 'GS', 'CAH']: Timeout('Failed to perform, curl: (28) Connection timed out after 10002 milliseconds. See https://curl.se/libcurl/c/libcurl-errors.html first for more details.')\n",
      "['CNI']: Timeout('Failed to perform, curl: (28) Connection timed out after 10001 milliseconds. See https://curl.se/libcurl/c/libcurl-errors.html first for more details.')\n"
     ]
    }
   ],
   "source": [
    "from quantlab.data.yf import priceData\n",
    "from quantlab.data.tickers import tickers\n",
    "\n",
    "data = priceData(tickers, 150)\n",
    "s = pd.Series(data[\"KO\"])"
   ]
  },
  {
   "cell_type": "markdown",
   "id": "c47ff0aa",
   "metadata": {},
   "source": [
    "<font size = \"4\">\n",
    "\n",
    "Step 1: For each stock, create arrays of the stock orderings ``t``, prices ``s``, and price logarithms ``y``. We use log to compare changes more accurately."
   ]
  },
  {
   "cell_type": "code",
   "execution_count": 17,
   "id": "91c47307",
   "metadata": {},
   "outputs": [],
   "source": [
    "n = len(s)\n",
    "t = np.arange(n)\n",
    "y = np.log(s.values)"
   ]
  },
  {
   "cell_type": "code",
   "execution_count": 18,
   "id": "a3d464e7",
   "metadata": {},
   "outputs": [
    {
     "name": "stdout",
     "output_type": "stream",
     "text": [
      "n: 104\n",
      "t: [0 1 2 3 4 5 6 7 8 9] ...\n",
      "y: [4.26194138 4.25020614 4.25315291 4.24668675 4.25287255 4.25874181\n",
      " 4.26679064 4.26291314 4.26526912 4.25532156] ...\n"
     ]
    }
   ],
   "source": [
    "print(f\"n: {n}\")\n",
    "print(f\"t: {t[:10]} ...\")\n",
    "print(f\"y: {y[:10]} ...\")"
   ]
  },
  {
   "cell_type": "markdown",
   "id": "d83ed764",
   "metadata": {},
   "source": [
    "<font size = \"4\">\n",
    "\n",
    "Step 2: Calculate mean values of ``y`` and ``t`` to build a regression line of the price data over the past ``n`` days. Then, create a series of expected y values ``exp_ys`` and expected prices ``exp_ps`` to compare with our actual y values."
   ]
  },
  {
   "cell_type": "code",
   "execution_count": 19,
   "id": "3d593a2b",
   "metadata": {},
   "outputs": [],
   "source": [
    "t_mean = t.mean()\n",
    "y_mean = y.mean()\n",
    "slope = np.sum((t - t_mean) * (y - y_mean)) / np.sum((t - t_mean)**2)\n",
    "intercept = y_mean - slope * t_mean\n",
    "exp_ys = intercept + slope * t\n",
    "exp_ps = np.exp(exp_ys)"
   ]
  },
  {
   "cell_type": "code",
   "execution_count": 20,
   "id": "de6ad7a4",
   "metadata": {},
   "outputs": [
    {
     "name": "stdout",
     "output_type": "stream",
     "text": [
      "t_mean: 51.5\n",
      "y_mean: 4.228343654116266\n",
      "slope: -0.00044311990369876064\n",
      "intercept: 4.251164329156752\n",
      "exp_ys: [4.25116433 4.25072121 4.25027809 4.24983497 4.24939185 4.24894873\n",
      " 4.24850561 4.24806249 4.24761937 4.24717625] ...\n",
      "exp_ps: [70.18708566 70.15599126 70.12491063 70.09384377 70.06279067 70.03175133\n",
      " 70.00072574 69.9697139  69.93871579 69.90773142] ...\n"
     ]
    }
   ],
   "source": [
    "print(f\"t_mean: {t_mean}\")\n",
    "print(f\"y_mean: {y_mean}\")\n",
    "print(f\"slope: {slope}\")\n",
    "print(f\"intercept: {intercept}\")\n",
    "print(f\"exp_ys: {exp_ys[:10]} ...\")\n",
    "print(f\"exp_ps: {exp_ps[:10]} ...\")"
   ]
  },
  {
   "cell_type": "markdown",
   "id": "a8d19f31",
   "metadata": {},
   "source": [
    "<font size = \"4\">\n",
    "\n",
    "Step 3: Compare our expectations with the actual prices and calculate ``error_threshold`` based on standard deviation of our errors. Then, compare ``current_price`` with ``expected_current_price`` to figure out the ``error``. If the error is significant enough, we believe the stock is overvalued/undervalued and we should make a move on it."
   ]
  },
  {
   "cell_type": "code",
   "execution_count": 21,
   "id": "4c1b983d",
   "metadata": {},
   "outputs": [],
   "source": [
    "residuals = s.values - exp_ps\n",
    "error_threshold = residuals.std()\n",
    "current_price = s.iloc[-1]\n",
    "exp_current_price = exp_ps[-1]\n",
    "error = current_price - exp_current_price"
   ]
  },
  {
   "cell_type": "code",
   "execution_count": 22,
   "id": "68777b00",
   "metadata": {},
   "outputs": [
    {
     "name": "stdout",
     "output_type": "stream",
     "text": [
      "residuals: [ 0.7605004  -0.03612584  0.20188686 -0.22032387  0.24429246  0.68919594\n",
      "  1.29173947  1.04684952  1.24535861  0.57174551] ...\n",
      "error_threshold: 1.2129566984392965\n",
      "current_price: 70.16000366210938\n",
      "exp_current_price: 67.05565720343351\n",
      "error: 3.104346458675863\n"
     ]
    }
   ],
   "source": [
    "print(f\"residuals: {residuals[:10]} ...\")\n",
    "print(f\"error_threshold: {error_threshold}\")\n",
    "print(f\"current_price: {current_price}\")\n",
    "print(f\"exp_current_price: {exp_current_price}\")\n",
    "print(f\"error: {error}\")"
   ]
  },
  {
   "cell_type": "markdown",
   "id": "cff000fc",
   "metadata": {},
   "source": [
    "<font size = \"4\">\n",
    "Step 4: If the error is over 2 times the error threshold, meaning the stock overprices the mean by 2 standard deviations, we believe that the stock will revert back to its mean and therefore we short the stock now. If the error is less than -2 times the error threshold, the stock underprices the mean by 2 standard deviations, and we long the stock expecting it to grow and revert back to its mean. The amount we buy should be standardized by price, so we divide 100 by the price of a share in order to buy/sell $100 of each stock."
   ]
  },
  {
   "cell_type": "code",
   "execution_count": 23,
   "id": "b8e670eb",
   "metadata": {},
   "outputs": [
    {
     "name": "stdout",
     "output_type": "stream",
     "text": [
      "Since the result is greater than the mean minus 2 standard deviations, short the stock.\n"
     ]
    }
   ],
   "source": [
    "if error > 2 * error_threshold:\n",
    "    result = -100 / current_price\n",
    "    print(\"Since the result is greater than the mean minus 2 standard deviations, short the stock.\")\n",
    "elif error < -2 * error_threshold:\n",
    "    result = 100 / current_price\n",
    "    print(\"Since the result is less than the mean minus 2 standard deviations, long the stock.\")\n",
    "else:\n",
    "    print(\"Since the error is within 2 standard deviations of the mean, do nothing.\")"
   ]
  },
  {
   "cell_type": "markdown",
   "id": "53e0e210",
   "metadata": {},
   "source": [
    "<font size = \"4\">\n",
    "Now, Wrap all of this as a function, looping across all columns. Start by initializing an empty data frame ``results``, which will be added to if our result consists of us buying or selling a stock. Return the data frame of trading decisions of all stocks."
   ]
  },
  {
   "cell_type": "code",
   "execution_count": 24,
   "id": "3a4af61c",
   "metadata": {},
   "outputs": [],
   "source": [
    "def meanReversion(data):\n",
    "    results = {}\n",
    "    for col in data.columns:\n",
    "        s = pd.Series(data[col])\n",
    "        n = len(s)\n",
    "        t = np.arange(n)\n",
    "        y = np.log(s.values)\n",
    "        t_mean = t.mean()\n",
    "        y_mean = y.mean()\n",
    "        slope = np.sum((t - t_mean) * (y - y_mean)) / np.sum((t - t_mean)**2)\n",
    "        intercept = y_mean - slope * t_mean\n",
    "        exp_ys = intercept + slope * t\n",
    "        exp_ps = np.exp(exp_ys)\n",
    "        residuals = s.values - exp_ps\n",
    "        error_threshold = residuals.std()\n",
    "        current_price = s.iloc[-1]\n",
    "        exp_current_price = exp_ps[-1]\n",
    "        error = current_price - exp_current_price\n",
    "\n",
    "        if error > 2 * error_threshold:\n",
    "            results[col] = -100 / current_price\n",
    "        elif error < -2 * error_threshold:\n",
    "            results[col] = 100 / current_price\n",
    "        else:\n",
    "            continue\n",
    "    return pd.Series(results, name = \"shares\")"
   ]
  },
  {
   "cell_type": "code",
   "execution_count": 25,
   "id": "75bb7e7b",
   "metadata": {},
   "outputs": [
    {
     "name": "stdout",
     "output_type": "stream",
     "text": [
      "AFG      0.764409\n",
      "ALL      0.523972\n",
      "AMD     -0.387582\n",
      "ARE      1.588815\n",
      "BLK      0.088893\n",
      "BX       0.659239\n",
      "CINF     0.658979\n",
      "CRWD    -0.182835\n",
      "CSCO    -1.377031\n",
      "D        1.677290\n",
      "DOW     -3.940110\n",
      "EW      -1.216693\n",
      "GM      -1.431229\n",
      "HIG      0.815062\n",
      "IBM     -0.319928\n",
      "ISRG    -0.183355\n",
      "JNJ      0.534960\n",
      "KO      -1.425313\n",
      "LIN      0.225876\n",
      "MDT      1.072616\n",
      "MKL      0.054408\n",
      "MU      -0.450633\n",
      "NCLH     4.474273\n",
      "NIO     14.104372\n",
      "NSC      0.356633\n",
      "NVS      0.810176\n",
      "OXY      2.449179\n",
      "PGR      0.471898\n",
      "QCOM    -0.552395\n",
      "REGN    -0.152793\n",
      "RMD      0.389757\n",
      "SPG      0.565707\n",
      "STLA    -8.841733\n",
      "UAL      1.053297\n",
      "UPS     -1.037775\n",
      "VICI     3.293808\n",
      "WPC      1.512630\n",
      "Name: shares, dtype: float64\n"
     ]
    }
   ],
   "source": [
    "results = meanReversion(data)\n",
    "print(results)"
   ]
  }
 ],
 "metadata": {
  "kernelspec": {
   "display_name": "base",
   "language": "python",
   "name": "python3"
  },
  "language_info": {
   "codemirror_mode": {
    "name": "ipython",
    "version": 3
   },
   "file_extension": ".py",
   "mimetype": "text/x-python",
   "name": "python",
   "nbconvert_exporter": "python",
   "pygments_lexer": "ipython3",
   "version": "3.13.5"
  }
 },
 "nbformat": 4,
 "nbformat_minor": 5
}
