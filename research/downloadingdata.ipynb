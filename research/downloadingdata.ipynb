{
 "cells": [
  {
   "cell_type": "markdown",
   "id": "2eb4fccd",
   "metadata": {},
   "source": [
    "<font size = \"5\">\n",
    "We get our price data from yfinance. Although it is not the most efficient way of gathering real time data, it is still effective enough to source our dummy algorithms. "
   ]
  },
  {
   "cell_type": "code",
   "execution_count": 1,
   "id": "c044cdc2",
   "metadata": {},
   "outputs": [],
   "source": [
    "import yfinance as yf"
   ]
  },
  {
   "cell_type": "markdown",
   "id": "2c78ab46",
   "metadata": {},
   "source": [
    "<font size = \"4\">\n",
    "\n",
    "For the basic trend algorithms like pairs trading, mean reversion, and momentum trading, the only data we need is price data. \n",
    "In 'yf.py,' the function 'priceData' allows us to gather the closing price data of any series of stocks ``(stocks: list)`` for any amount of days. ``(length: int)``"
   ]
  },
  {
   "cell_type": "code",
   "execution_count": 2,
   "id": "bebf223b",
   "metadata": {},
   "outputs": [],
   "source": [
    "from datetime import date, timedelta\n",
    "\n",
    "def priceData(stocks: list, length: int):\n",
    "    data = yf.download(\n",
    "        tickers = stocks,\n",
    "        start = date.today() - timedelta(days = length),\n",
    "        end = date.today(),\n",
    "        auto_adjust = True\n",
    "    )\n",
    "    return data[\"Close\"]"
   ]
  },
  {
   "cell_type": "code",
   "execution_count": 7,
   "id": "451b5f2c",
   "metadata": {},
   "outputs": [
    {
     "name": "stderr",
     "output_type": "stream",
     "text": [
      "[*********************100%***********************]  4 of 4 completed"
     ]
    },
    {
     "name": "stdout",
     "output_type": "stream",
     "text": [
      "Ticker            AAPL        META        MSFT        NVDA\n",
      "Date                                                      \n",
      "2025-06-02  201.471344  669.932068  461.211823  137.362717\n",
      "2025-06-03  203.039566  665.887878  462.210175  141.202225\n",
      "2025-06-04  202.590088  686.957458  463.108673  141.902145\n",
      "2025-06-05  200.402573  683.632202  466.912415  139.972397\n",
      "2025-06-06  203.688828  696.703369  469.608002  141.702164\n",
      "...                ...         ...         ...         ...\n",
      "2025-10-21  262.769989  733.270020  517.659973  181.160004\n",
      "2025-10-22  258.450012  733.409973  520.539978  180.279999\n",
      "2025-10-23  259.579987  734.000000  520.559998  182.160004\n",
      "2025-10-24  262.820007  738.359985  523.609985  186.259995\n",
      "2025-10-27  268.809998  750.820007  531.520020  191.490005\n",
      "\n",
      "[103 rows x 4 columns]\n"
     ]
    },
    {
     "name": "stderr",
     "output_type": "stream",
     "text": [
      "\n"
     ]
    }
   ],
   "source": [
    "stocks = [\"AAPL\",\"MSFT\",\"META\",\"NVDA\"]\n",
    "data = priceData(stocks, 150)\n",
    "print(data)"
   ]
  },
  {
   "cell_type": "markdown",
   "id": "b3209e55",
   "metadata": {},
   "source": [
    "<font size = \"4\">\n",
    "\n",
    "As you can see, this returns the day-by-day closing prices for every stock in the list."
   ]
  }
 ],
 "metadata": {
  "kernelspec": {
   "display_name": "base",
   "language": "python",
   "name": "python3"
  },
  "language_info": {
   "codemirror_mode": {
    "name": "ipython",
    "version": 3
   },
   "file_extension": ".py",
   "mimetype": "text/x-python",
   "name": "python",
   "nbconvert_exporter": "python",
   "pygments_lexer": "ipython3",
   "version": "3.13.5"
  }
 },
 "nbformat": 4,
 "nbformat_minor": 5
}
