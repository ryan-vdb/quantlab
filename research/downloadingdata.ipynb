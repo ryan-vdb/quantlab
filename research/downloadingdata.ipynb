{
 "cells": [
  {
   "cell_type": "markdown",
   "id": "2c78ab46",
   "metadata": {},
   "source": [
    "#### Use price data function to get price data about any series of stock from yfinance."
   ]
  },
  {
   "cell_type": "code",
   "execution_count": 4,
   "id": "bebf223b",
   "metadata": {},
   "outputs": [],
   "source": [
    "import yfinance as yf\n",
    "from datetime import date, timedelta\n",
    "\n",
    "def priceData(stocks: list, length: int):\n",
    "    data = yf.download(\n",
    "        tickers = stocks,\n",
    "        start = date.today() - timedelta(days = length),\n",
    "        end = date.today(),\n",
    "        auto_adjust = True\n",
    "    )\n",
    "    return data"
   ]
  },
  {
   "cell_type": "code",
   "execution_count": null,
   "id": "a555342a",
   "metadata": {},
   "outputs": [],
   "source": []
  }
 ],
 "metadata": {
  "kernelspec": {
   "display_name": "base",
   "language": "python",
   "name": "python3"
  },
  "language_info": {
   "codemirror_mode": {
    "name": "ipython",
    "version": 3
   },
   "file_extension": ".py",
   "mimetype": "text/x-python",
   "name": "python",
   "nbconvert_exporter": "python",
   "pygments_lexer": "ipython3",
   "version": "3.13.5"
  }
 },
 "nbformat": 4,
 "nbformat_minor": 5
}
