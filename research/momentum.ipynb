{
 "cells": [
  {
   "cell_type": "markdown",
   "id": "6e0e4b34",
   "metadata": {},
   "source": [
    "<font size = \"5\">\n",
    "\n",
    "Momentum Trading Strategy"
   ]
  },
  {
   "cell_type": "code",
   "execution_count": 27,
   "id": "6978753f",
   "metadata": {},
   "outputs": [],
   "source": [
    "import pandas as pd\n",
    "import numpy as np"
   ]
  },
  {
   "cell_type": "markdown",
   "id": "eab05112",
   "metadata": {},
   "source": [
    "<font size = \"4\">\n",
    "\n",
    "Step 0: Collect our data from our priceData function. For this walkthrough we will use ``AAPL`` Apple as an example."
   ]
  },
  {
   "cell_type": "code",
   "execution_count": 28,
   "id": "09a187ee",
   "metadata": {},
   "outputs": [
    {
     "name": "stderr",
     "output_type": "stream",
     "text": [
      "[*********************100%***********************]  239 of 239 completed\n",
      "\n",
      "25 Failed downloads:\n",
      "['SYK']: Timeout('Failed to perform, curl: (28) Connection timed out after 10003 milliseconds. See https://curl.se/libcurl/c/libcurl-errors.html first for more details.')\n",
      "['LYFT', 'VICI', 'MET', 'RCL', 'NVS', 'ROKU', 'HIG', 'BLK', 'MRK', 'ASML', 'AFG', 'MPW', 'LMT', 'DOW', 'ADP', 'INVH', 'PLTR', 'TFC', 'ADBE', 'DHR']: Timeout('Failed to perform, curl: (28) Connection timed out after 10002 milliseconds. See https://curl.se/libcurl/c/libcurl-errors.html first for more details.')\n",
      "['BKNG', 'BEN', 'BX', 'VNO']: Timeout('Failed to perform, curl: (28) Connection timed out after 10001 milliseconds. See https://curl.se/libcurl/c/libcurl-errors.html first for more details.')\n"
     ]
    }
   ],
   "source": [
    "from quantlab.data.yf import priceData\n",
    "from quantlab.data.tickers import tickers\n",
    "\n",
    "data = priceData(tickers, 150)\n",
    "s = pd.Series(data[\"AAPL\"])"
   ]
  },
  {
   "cell_type": "markdown",
   "id": "c47ff0aa",
   "metadata": {},
   "source": [
    "<font size = \"4\">\n",
    "\n",
    "Step 1: Find the ``current_price`` of the stock as well as the ``past_price`` from 8 trading days ago, and then log and divide to find the logarithmic ``change``. Logarithmic allows us to check for proportional changes instead of linear ones."
   ]
  },
  {
   "cell_type": "code",
   "execution_count": 29,
   "id": "91c47307",
   "metadata": {},
   "outputs": [],
   "source": [
    "current_price = s.iloc[-1]\n",
    "past_price = s.iloc[-8]\n",
    "change = np.log(current_price / past_price)"
   ]
  },
  {
   "cell_type": "code",
   "execution_count": 30,
   "id": "a3d464e7",
   "metadata": {},
   "outputs": [
    {
     "name": "stdout",
     "output_type": "stream",
     "text": [
      "current_price: 269.0\n",
      "past_price: 252.2899932861328\n",
      "change: 0.06413218670677084\n"
     ]
    }
   ],
   "source": [
    "print(f\"current_price: {current_price}\")\n",
    "print(f\"past_price: {past_price}\")\n",
    "print(f\"change: {change}\")\n"
   ]
  },
  {
   "cell_type": "markdown",
   "id": "d83ed764",
   "metadata": {},
   "source": [
    "<font size = \"4\">\n",
    "\n",
    "Step 2: Find the volatility ``vol`` by looking at te standard deviation of the ``daily_returns`` over the past 8 days. Create a ``threshold`` of 0.75 times the volatility times the square root of our 8 day lookback period."
   ]
  },
  {
   "cell_type": "code",
   "execution_count": 31,
   "id": "3d593a2b",
   "metadata": {},
   "outputs": [],
   "source": [
    "daily_returns = np.log(s/s.shift(1))\n",
    "vol = daily_returns.iloc[-8:].std(ddof = 1)\n",
    "threshold = 0.75 * vol * np.sqrt(8)"
   ]
  },
  {
   "cell_type": "code",
   "execution_count": 32,
   "id": "de6ad7a4",
   "metadata": {},
   "outputs": [
    {
     "name": "stdout",
     "output_type": "stream",
     "text": [
      "daily_returns: [-0.01657678  0.00436259  0.01240453  0.02253539  0.00070658] ...\n",
      "vol: 0.01673301365000057\n",
      "threshold: 0.035496082264807396\n"
     ]
    }
   ],
   "source": [
    "print(f\"daily_returns: {np.array(daily_returns[-5:])} ...\")\n",
    "print(f\"vol: {vol}\")\n",
    "print(f\"threshold: {threshold}\")"
   ]
  },
  {
   "cell_type": "markdown",
   "id": "cff000fc",
   "metadata": {},
   "source": [
    "<font size = \"4\">\n",
    "\n",
    "Step 3: If our change in price over the past 8 days is over the threshold, the stock is believed to have sufficient positive momentum to trigger our signal, and we long the stock. If the change in price is less than the negative of the threshold, the stock is believed to have sufficient negative momentum, and we short the stock. The amount we buy should be standardized by price, so we divide 100 by the price of a share in order to buy/sell $100 of each stock."
   ]
  },
  {
   "cell_type": "code",
   "execution_count": 33,
   "id": "b8e670eb",
   "metadata": {},
   "outputs": [
    {
     "name": "stdout",
     "output_type": "stream",
     "text": [
      "Since the change is greater than the threshold, momentum is high, long the stock.\n"
     ]
    }
   ],
   "source": [
    "if change > threshold:\n",
    "    result = 100 / current_price\n",
    "    print(\"Since the change is greater than the threshold, momentum is high, long the stock.\")\n",
    "elif change < -threshold:\n",
    "    result = -100 / current_price\n",
    "    print(\"Since the change is less than the negative of the threshold, momentum is high, short the stock.\")\n",
    "else:\n",
    "    print(\"Since the change is within the positive and negative threshold, do nothing.\")"
   ]
  },
  {
   "cell_type": "markdown",
   "id": "53e0e210",
   "metadata": {},
   "source": [
    "<font size = \"4\">\n",
    "\n",
    "Now, Wrap all of this as a function, looping across all columns. Start by initializing an empty data frame ``results`` , which will be added to if our result consists of us buying or selling a stock. Return the data frame of trading decisions of all stocks."
   ]
  },
  {
   "cell_type": "code",
   "execution_count": 34,
   "id": "3a4af61c",
   "metadata": {},
   "outputs": [],
   "source": [
    "def momentum(data):\n",
    "    results = {}\n",
    "    for col in data.columns:\n",
    "        s = pd.Series(data[col])\n",
    "        current_price = s.iloc[-1]\n",
    "        past_price = s.iloc[-8]\n",
    "        change = np.log(current_price / past_price)\n",
    "        daily_returns = np.log(s/s.shift(1))\n",
    "        vol = daily_returns.iloc[-8:].std(ddof = 1)\n",
    "        threshold = 0.75 * vol * np.sqrt(8)\n",
    "\n",
    "        if change > threshold:\n",
    "            results[col] = 100 / current_price\n",
    "        elif change < -threshold:\n",
    "            results[col] = -100 / current_price\n",
    "        else:\n",
    "            continue\n",
    "    return pd.Series(results, name = \"shares\")"
   ]
  },
  {
   "cell_type": "code",
   "execution_count": 35,
   "id": "75bb7e7b",
   "metadata": {},
   "outputs": [
    {
     "name": "stdout",
     "output_type": "stream",
     "text": [
      "A       0.685636\n",
      "AAPL    0.371747\n",
      "AEP    -0.868734\n",
      "AJG    -0.373832\n",
      "ALL    -0.523972\n",
      "          ...   \n",
      "WFC     1.150748\n",
      "WPC    -1.512630\n",
      "XEL    -1.252819\n",
      "XOM     0.869338\n",
      "ZM      1.177995\n",
      "Name: shares, Length: 102, dtype: float64\n"
     ]
    }
   ],
   "source": [
    "results = momentum(data)\n",
    "print(results)"
   ]
  }
 ],
 "metadata": {
  "kernelspec": {
   "display_name": "base",
   "language": "python",
   "name": "python3"
  },
  "language_info": {
   "codemirror_mode": {
    "name": "ipython",
    "version": 3
   },
   "file_extension": ".py",
   "mimetype": "text/x-python",
   "name": "python",
   "nbconvert_exporter": "python",
   "pygments_lexer": "ipython3",
   "version": "3.13.5"
  }
 },
 "nbformat": 4,
 "nbformat_minor": 5
}
